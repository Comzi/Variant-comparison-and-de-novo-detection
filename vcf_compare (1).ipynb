{
 "cells": [
  {
   "cell_type": "markdown",
   "metadata": {
    "id": "mvcxRSFXNYuA"
   },
   "source": [
    "# Genome Informatics 2021 - Project assignment\n",
    "## Finding intersection between VCF files\n"
   ]
  },
  {
   "cell_type": "markdown",
   "metadata": {
    "id": "Db_OdCqX0h94"
   },
   "source": [
    "The purpose of this notebook is to demonstrate a method of comparing VCF files of three sample genomes (a mother, a father and a child) in order to find *de novo* variants of the child. *De novo* variants represent the variants present in the child, but not present in either of the parents."
   ]
  },
  {
   "cell_type": "markdown",
   "metadata": {
    "id": "e2bcdBni11uu"
   },
   "source": [
    "The VCF files used in this notebook were obtained via GRAF Germline Variant Detection Workflow, developed by Seven Bridges.\n",
    "\n",
    "*PyVCF* library is being utilized in order to easily parse through the VCF files.\n",
    "It has built-in functions for reading and writing into VCF files, as well as direct ways of accessing the records and their fields."
   ]
  },
  {
   "cell_type": "code",
   "execution_count": 1,
   "metadata": {
    "id": "gw2IcvlVwIoY"
   },
   "outputs": [
    {
     "name": "stdout",
     "output_type": "stream",
     "text": [
      "Collecting pyvcf\n",
      "  Downloading PyVCF-0.6.8.tar.gz (34 kB)\n",
      "Requirement already satisfied: setuptools in /opt/conda/lib/python3.8/site-packages (from pyvcf) (49.1.0.post20200704)\n",
      "Building wheels for collected packages: pyvcf\n",
      "  Building wheel for pyvcf (setup.py) ... \u001b[?25ldone\n",
      "\u001b[?25h  Created wheel for pyvcf: filename=PyVCF-0.6.8-cp38-cp38-linux_x86_64.whl size=162299 sha256=e220170903b5ed7ea4ba25ccf9e67e12effc1e937cc72cb7382165040580edff\n",
      "  Stored in directory: /home/jovyan/.cache/pip/wheels/f0/3e/15/c1865f9a071eacc7fc702e9c7d25fc752fe5e30a82d0dd405d\n",
      "Successfully built pyvcf\n",
      "Installing collected packages: pyvcf\n",
      "Successfully installed pyvcf-0.6.8\n"
     ]
    }
   ],
   "source": [
    "!pip install pyvcf\n",
    "import vcf"
   ]
  },
  {
   "cell_type": "code",
   "execution_count": 2,
   "metadata": {
    "id": "4cswV8yWNinS"
   },
   "outputs": [],
   "source": [
    "# Open all VCF files in read mode\n",
    "vcf_child = vcf.Reader(open('/sbgenomics/project-files/vcf_ch38/HG002-NA24385-50x_filtered_corr.vcf', 'r'))\n",
    "vcf_father = vcf.Reader(open('/sbgenomics/project-files/vcf_ch38/HG003.hs37d5.60x.1.converted_filtered_corr.vcf', 'r'))\n",
    "vcf_mother = vcf.Reader(open('/sbgenomics/project-files/vcf_ch38/HG004.hs37d5.60x.1.converted_filtered_corr.vcf', 'r'))\n"
   ]
  },
  {
   "cell_type": "markdown",
   "metadata": {
    "id": "2hGM-qL12wxR"
   },
   "source": [
    "Let's define a function in order to calculate the number and percentage of *de novo* variants from two VCF files.\n",
    "Input arguments represent a baseline VCF file, a VCF file containing called variants as well as the output file name.\n",
    "Output values represent a list containing the number of total and de novo variants."
   ]
  },
  {
   "cell_type": "code",
   "execution_count": 3,
   "metadata": {
    "id": "Ka9cAczg6-VE"
   },
   "outputs": [],
   "source": [
    "def vcf_compare(baseline_vcf, call_vcf, out_file_name):\n",
    "    # Initialize number of total and de novo variants to 0 \n",
    "    de_novo_num = 0\n",
    "    total_variants = 0\n",
    "\n",
    "    # Open the output file in write mode and write the header section into the output file\n",
    "    out_file_vcf = vcf.Writer(open(out_file_name+'.vcf', 'w'), call_vcf)  #/sbgenomics/project-files/vcf_ch38/'+out_file_name+'.vcf', 'w'), call_vcf) \n",
    "\n",
    "    # Initialize baseline record and position\n",
    "    baseline_record = next(baseline_vcf)\n",
    "    baseline_position = baseline_record.POS\n",
    "\n",
    "    # Main loop\n",
    "    for call_record in call_vcf: \n",
    "        # Update positions\n",
    "        call_position = call_record.POS\n",
    "        baseline_position = baseline_record.POS\n",
    "\n",
    "        total_variants = total_variants + 1\n",
    "\n",
    "        if baseline_record.CHROM == call_record.CHROM: # If we are examining records on the same chromosome, compare their variants\n",
    "            [baseline_record, total_change, de_novo_change] = chrom_compare(call_record, baseline_record, baseline_vcf, call_vcf, out_file_vcf)\n",
    "\n",
    "        # Different chromosome, baseline record on the next chromosome. If the variant in the call record is of adequate quality\n",
    "        # and is not a false positive, it is classified as a de novo variant, since the are no more variants on the current chromosome\n",
    "        # in the baseline VCF\n",
    "        elif call_position > baseline_position:\n",
    "            if len(call_record.FILTER) == 1 or call_record.QUAL <= 10:\n",
    "                # Skip this record and substract if from the total number of variants\n",
    "                total_variants = total_variants - 1\n",
    "            else:\n",
    "                # De novo variant detected\n",
    "                de_novo_num = de_novo_num + 1 \n",
    "                # Copy the record into the output file\n",
    "                out_file_vcf.write_record(call_record)\n",
    "\n",
    "        # Different chromosome, call record on the next chromosome. Iterate through the baseline VCF until the baseline record \n",
    "        # chromosome matches the call record chromosome, then compare those variants\n",
    "        else: # call_position < baseline_position:\n",
    "            while call_record.CHROM != baseline_record.CHROM:\n",
    "                baseline_record = next(baseline_vcf)\n",
    "            [baseline_record, total_change, de_novo_change] = chrom_compare(call_record, baseline_record, baseline_vcf, call_vcf, out_file_vcf)\n",
    "                    \n",
    "        # Calculate the new number of total and de novo variants\n",
    "        de_novo_num = de_novo_num + de_novo_change\n",
    "        total_variants = total_variants + total_change\n",
    "\n",
    "    out_file_vcf.close()\n",
    "\n",
    "    return [de_novo_num, total_variants]\n"
   ]
  },
  {
   "cell_type": "markdown",
   "metadata": {
    "id": "n6ailSy24hwt"
   },
   "source": [
    "We also have to define an additional function that performs the comparison for the variants on the same chromosome. Input arguments are the current call and baseline records and all three VCF files. The function returns the change in the numbers of total and *de novo* variants."
   ]
  },
  {
   "cell_type": "code",
   "execution_count": 4,
   "metadata": {
    "id": "AQXTjg9CW3au"
   },
   "outputs": [],
   "source": [
    "def chrom_compare (call_record, baseline_record, baseline_vcf, call_vcf, out_file_vcf):\n",
    "    # Initialize the updated values and positions\n",
    "    de_novo_change = 0\n",
    "    total_change = 0\n",
    "    call_position = call_record.POS\n",
    "    baseline_position = baseline_record.POS\n",
    "\n",
    "    if len(call_record.FILTER) == 1 or call_record.QUAL <= 10:\n",
    "        # False positive or low quality -> skip this record\n",
    "        total_change = -1\n",
    "\n",
    "    # Baseline record ahead of call record -> call record doesn't have a match -> de novo\n",
    "    elif call_position < baseline_position:\n",
    "        de_novo_change = 1  \n",
    "        # Copy the record into the output file\n",
    "        out_file_vcf.write_record(call_record)\n",
    "\n",
    "    # Call record ahead of baseline record -> iterate through baseline VCF until the baseline position\n",
    "    # catches up to the call record position\n",
    "    else:\n",
    "        try:\n",
    "            while call_position > baseline_position:\n",
    "                baseline_record = next(baseline_vcf)\n",
    "                baseline_position = baseline_record.POS\n",
    "                # If the baseline record reaches the next chromosome, stop iterating \n",
    "                if baseline_record.CHROM != call_record.CHROM:\n",
    "                    break\n",
    "\n",
    "            # If variants on the same position are detected, compare REF and ALT fields, as well as their genotype\n",
    "            if baseline_position == call_position:\n",
    "                \n",
    "                base_gt = baseline_record.genotype(baseline_vcf.samples[0])['GT']\n",
    "                call_gt = call_record.genotype(call_vcf.samples[0])['GT']\n",
    "                base_ref = baseline_record.REF\n",
    "                call_ref = call_record.REF\n",
    "                base_alt = baseline_record.ALT\n",
    "                call_alt = call_record.ALT\n",
    "                \n",
    "                # Compare the genotypes of call and baseline, and determin if the record is a de novo variant\n",
    "                if gt_compare(base_gt, call_gt, base_ref, call_ref, base_alt, call_alt):\n",
    "                    # Same mutation -> not a de novo variant -> skip\n",
    "                    pass\n",
    "                else:\n",
    "                    # De novo variant detected\n",
    "                    de_novo_change = 1  \n",
    "                    # Copy the record into the output file\n",
    "                    out_file_vcf.write_record(call_record)\n",
    "\n",
    "            # The baseline position is ahead of the call position -> call position has no match -> de novo \n",
    "            else:\n",
    "                # De novo variant detected\n",
    "                de_novo_change = 1  \n",
    "                # Copy the record into the output file\n",
    "                out_file_vcf.write_record(call_record)\n",
    "\n",
    "        # Try/except branches exist in case the baseline_record reaches the end of the baseline VCF file. In that case,\n",
    "        # the current and all the following variants from the call VCF are detected as de novo variants\n",
    "        except:\n",
    "            # De novo variant detected\n",
    "            de_novo_change = 1 \n",
    "            # Copy the record into the output file\n",
    "            out_file_vcf.write_record(call_record)\n",
    "\n",
    "    return [baseline_record, total_change, de_novo_change]"
   ]
  },
  {
   "cell_type": "markdown",
   "metadata": {},
   "source": [
    "We have defined an additional function for comparing the REF and ALT fields depending on the genotypes of the call and baseline records."
   ]
  },
  {
   "cell_type": "code",
   "execution_count": 5,
   "metadata": {},
   "outputs": [],
   "source": [
    "def gt_compare(base_gt, call_gt, base_ref, call_ref, base_alt, call_alt):\n",
    "    # Return flag=1 if call haplotypes are a mutation that matches a parent haplotype or are not a mutation at all\n",
    "    \n",
    "    if call_gt == '0/0':\n",
    "        flag = 1\n",
    "    elif call_gt == '0/1' and base_gt == '0/0':\n",
    "        flag = 0\n",
    "    elif call_gt == '0/1' and base_gt in ['0/1','1/1']:\n",
    "        if call_ref == base_ref and call_alt == base_alt:\n",
    "            flag = 1\n",
    "        else:\n",
    "            flag = 0\n",
    "    elif call_gt == '0/1' and base_gt == '1/2':\n",
    "        if call_ref == base_ref and call_alt in base_alt:\n",
    "            flag = 1\n",
    "        else:\n",
    "            flag = 0 \n",
    "    elif call_gt == '1/1' and base_gt == '0/0':\n",
    "        flag = 0\n",
    "    elif call_gt == '1/1' and base_gt in ['0/1','1/1']:\n",
    "        if call_ref == base_ref and call_alt == base_alt:\n",
    "            flag = 1\n",
    "        else:\n",
    "            flag = 0\n",
    "    elif call_gt == '1/1' and base_gt == '1/2':\n",
    "        if call_ref == base_ref and call_alt in base_alt:\n",
    "            flag = 1\n",
    "        else:\n",
    "            flag = 0\n",
    "    elif call_gt == '1/2' and base_gt == '0/0':\n",
    "        flag = 0\n",
    "    elif call_gt == '1/2' and base_gt in ['0/1','1/1']:\n",
    "        if call_ref == base_ref and (base_alt in call_alt):\n",
    "            flag = 1\n",
    "        else:\n",
    "            flag = 0\n",
    "    elif call_gt == '1/2' and base_gt == '1/2':\n",
    "        if call_ref == base_ref and (call_alt[0] in base_alt or call_alt[1] in base_alt):\n",
    "            flag = 1\n",
    "        else:\n",
    "            flag = 0\n",
    "    \n",
    "    return flag"
   ]
  },
  {
   "cell_type": "markdown",
   "metadata": {
    "id": "IntQAx9B5ueH"
   },
   "source": [
    "The main section of the code calls the *vcf_compare* function twice. The first time, it compares the child VCF against the mother VCF. The output of this comparison is then compared against the father VCF, giving the final VCF containing all the *de novo* variants."
   ]
  },
  {
   "cell_type": "code",
   "execution_count": 6,
   "metadata": {
    "colab": {
     "base_uri": "https://localhost:8080/"
    },
    "id": "a7nhCf_24VmP",
    "outputId": "9250c475-8aaa-40ac-b8f2-7e79075cad54"
   },
   "outputs": [
    {
     "name": "stdout",
     "output_type": "stream",
     "text": [
      "Total number of de novo variants:  142685\n",
      "Percentage of de novo variants:  2.90858381312005 %\n"
     ]
    }
   ],
   "source": [
    "# Compare the child VCF with the mother VCF and find de novo variants\n",
    "[num_m_c, total_m_c] = vcf_compare(vcf_mother, vcf_child, 'de_novo_mother_child')\n",
    "\n",
    "total_child_variants = total_m_c\n",
    "\n",
    "# Open the created VCF containing de novo variants detected between the mother and the child\n",
    "vcf_mother_child = vcf.Reader(open('de_novo_mother_child.vcf', 'r')) #'/sbgenomics/project-files/vcf_ch38/de_novo_mother_child.vcf', 'r'))\n",
    "\n",
    "# Find de novo variants between the father VCF and the created file\n",
    "[num_final, total_final] = vcf_compare(vcf_father, vcf_mother_child, 'de_novo_final')\n",
    "\n",
    "# Print the total number of and the percentage of de novo variants \n",
    "print(\"Total number of de novo variants: \", num_final)\n",
    "print(\"Percentage of de novo variants: \", num_final/total_child_variants*100, \"%\")"
   ]
  }
 ],
 "metadata": {
  "colab": {
   "collapsed_sections": [],
   "name": "vcf_compare.ipynb",
   "provenance": []
  },
  "kernelspec": {
   "display_name": "Python 3",
   "language": "python",
   "name": "python3"
  },
  "language_info": {
   "codemirror_mode": {
    "name": "ipython",
    "version": 3
   },
   "file_extension": ".py",
   "mimetype": "text/x-python",
   "name": "python",
   "nbconvert_exporter": "python",
   "pygments_lexer": "ipython3",
   "version": "3.8.3"
  }
 },
 "nbformat": 4,
 "nbformat_minor": 4
}
